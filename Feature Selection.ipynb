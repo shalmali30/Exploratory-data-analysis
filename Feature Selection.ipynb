{
 "cells": [
  {
   "cell_type": "markdown",
   "id": "26f994a5-7714-4182-ac5a-4c1c1a035c0a",
   "metadata": {},
   "source": [
    "# Feature Selection\n",
    "\n",
    "Feature selection techniques are methods used to select a subset of relevant features (or variables) from a larger set of features in a dataset. The goal is to improve model performance, reduce overfitting, and enhance interpretability. Here are some common feature selection techniques:\n",
    "\n",
    "### Filter Methods:\n",
    "These methods select features based on statistical properties like correlation, mutual information, or significance tests without considering the model. Examples include:\n",
    "\n",
    "#### Correlation: \n",
    "Features highly correlated with the target variable are selected.\n",
    "#### Mutual Information: \n",
    "    Measures the amount of information obtained about one variable through the other variable.\n",
    "#### Chi-square Test:\n",
    "    Tests the independence of categorical variables.\n",
    "\n",
    "\n",
    "### Wrapper Methods: \n",
    "These methods select features by evaluating the performance of a specific machine learning algorithm using different feature subsets. Examples include:\n",
    "\n",
    "#### Forward Selection:\n",
    "Starts with an empty set of features and adds one feature at a time, selecting the one that improves model performance the most.\n",
    "#### Backward Elimination:\n",
    "    Starts with all features and removes one feature at a time, selecting the one whose removal improves performance.\n",
    "#### Recursive Feature Elimination (RFE):\n",
    "    Iteratively removes the least significant features based on their coefficients or feature importance.\n",
    "#### Embedded Methods:\n",
    "    These methods perform feature selection as part of the model training process. They use regularization techniques or built-in feature selection algorithms to penalize irrelevant features during model training. Examples include:\n",
    "\n",
    "### Lasso Regression: \n",
    "Adds an L1 penalty term to the loss function, which encourages sparsity in the coefficients, effectively performing feature selection.\n",
    "\n",
    "#### Random Forest Feature Importance:\n",
    "Measures the importance of each feature based on how much it decreases impurity in decision trees.\n",
    "#### Gradient Boosting Feature Importance:\n",
    "Measures the contribution of each feature to the model's predictive power.\n",
    "#### Dimensionality Reduction Techniques:\n",
    "While not strictly feature selection, dimensionality reduction methods like Principal Component Analysis (PCA) and t-distributed Stochastic Neighbor Embedding (t-SNE) reduce the number of features by transforming them into a lower-dimensional space while preserving as much information as possible.\n",
    "\n",
    "Choosing the appropriate feature selection technique depends on the dataset, the machine learning algorithm used, and the specific goals of the analysis, such as improving model performance or enhancing interpretability.\n",
    "\n",
    "used in the model.yes/no)"
   ]
  },
  {
   "cell_type": "markdown",
   "id": "4d3b0a66-0c55-4104-9b44-d6201641fb0e",
   "metadata": {},
   "source": [
    "## Example :\n",
    "Predicting house prices with the following features:\n",
    "\n",
    "Number of bedrooms,\n",
    "Square footage of the house,\n",
    "Presence of a garage (yes/no),\n",
    "Distance to the nearest school (in miles),\n",
    "Age of the house (in years),\n",
    "Presence of a swimming pool (yes/no)\n",
    "\n",
    "### Filter Methods:\n",
    "\n",
    "#### Correlation:\n",
    "We calculate the correlation coefficient between each feature and the target variable (house price). For example, if the number of bedrooms and square footage have high positive correlations with house price, we select them as relevant features.\n",
    "#### Mutual Information:\n",
    "We measure how much information each feature provides about the house price. Features with high mutual information scores are considered relevant.\n",
    "#### Chi-square Test:\n",
    "If the presence of a garage or swimming pool significantly affects house prices, these features are selected.\n",
    "\n",
    "### Wrapper Methods:\n",
    "\n",
    "#### Forward Selection:\n",
    "We start with one feature and add more features one by one, selecting the feature that improves the model's predictive performance the most.\n",
    "#### Backward Elimination:\n",
    "We start with all features and remove one feature at a time, selecting the one whose removal improves the model's performance.\n",
    "#### Recursive Feature Elimination (RFE):\n",
    "We train the model with all features and then iteratively remove the least important feature based on their coefficients or feature importance until the desired number of features is reached.\n",
    "\n",
    "### Embedded Methods:\n",
    "\n",
    "#### Lasso Regression:\n",
    "We train a Lasso regression model that automatically penalizes irrelevant features by shrinking their coefficients to zero, effectively performing feature selection.\n",
    "#### Random Forest Feature Importance:\n",
    "We train a random forest model and measure the importance of each feature based on how much it decreases impurity in the decision trees. Features with higher importance are selected.\n",
    "#### Gradient Boosting Feature Importance: \n",
    "Similar to random forest, we measure the contribution of each feature to the model's predictive power using gradient boosting.\n",
    "\n",
    "### Dimensionality Reduction Techniques:\n",
    "\n",
    "#### Principal Component Analysis (PCA):\n",
    "We transform the original features into a lower-dimensional space while preserving as much variance as possible. The new components can be used as features in the model.\n",
    "#### t-distributed Stochastic Neighbor Embedding (t-SNE):\n",
    "It is a technique for visualizing high-dimensional data by transforming it into a lower-dimensional space. While it's primarily for visualization, the transformed features can also be used in the model."
   ]
  },
  {
   "cell_type": "code",
   "execution_count": 1,
   "id": "195bc554-b3a3-4365-ae1b-34b04a7797d9",
   "metadata": {},
   "outputs": [],
   "source": [
    "# Import necessary libraries\n",
    "import numpy as np\n",
    "import pandas as pd\n",
    "from sklearn.datasets import make_regression\n",
    "from sklearn.model_selection import train_test_split\n",
    "from sklearn.feature_selection import SelectKBest, f_regression, mutual_info_regression\n",
    "from sklearn.feature_selection import SelectFromModel\n",
    "from sklearn.linear_model import Lasso\n",
    "from sklearn.ensemble import RandomForestRegressor\n",
    "from sklearn.feature_selection import RFE\n",
    "from sklearn.ensemble import GradientBoostingRegressor\n",
    "from sklearn.decomposition import PCA\n",
    "from sklearn.manifold import TSNE"
   ]
  },
  {
   "cell_type": "code",
   "execution_count": null,
   "id": "1fd7bde8-1bc6-4fe3-bdad-f09fe2fa4c7d",
   "metadata": {},
   "outputs": [],
   "source": []
  },
  {
   "cell_type": "code",
   "execution_count": 2,
   "id": "3e86c3a2-e4db-41bc-a004-ef48aa5863c2",
   "metadata": {},
   "outputs": [],
   "source": [
    "# Generate sample dataset\n",
    "X, y = make_regression(n_samples=100, n_features=6, noise=0.1, random_state=42)"
   ]
  },
  {
   "cell_type": "code",
   "execution_count": 3,
   "id": "4f7c6e01-700b-4150-9ca1-adb2cc619fcb",
   "metadata": {},
   "outputs": [
    {
     "name": "stdout",
     "output_type": "stream",
     "text": [
      "[[-0.98150865  0.01023306  0.46210347  1.44127329 -1.43586215  1.16316375]\n",
      " [-0.0660798  -1.66152006 -1.2110162   0.2597225  -0.90431663  0.63859246]\n",
      " [-0.39210815 -0.32766215 -1.46351495  0.09707755  0.96864499 -0.70205309]\n",
      " [ 0.87232064 -0.76734756  0.18334201  1.45114361  0.95927083  2.15318246]\n",
      " [-1.62754244 -1.8048821   0.04808495 -0.66262376  0.57059867 -0.76325916]\n",
      " [-1.53411417 -1.12464209  1.27767682  0.12029563  0.51443883  0.71161488]\n",
      " [-1.39856757  1.90941664  0.56296924 -0.87561825 -1.38279973  0.92617755]\n",
      " [ 0.51504769  0.51378595  3.85273149 -1.37766937 -0.93782504  0.51503527]\n",
      " [-0.58936476 -0.49300093  0.8496021   0.28099187 -0.62269952 -0.20812225]\n",
      " [-1.03724615  0.53891004 -0.19033868  0.07736831 -0.8612842   1.52312408]\n",
      " [ 0.08658979 -0.60398519 -0.15567724  0.57707213 -0.20304539  0.37114587]\n",
      " [ 0.08704707  0.8219025  -0.29900735 -0.03582604  1.56464366 -2.6197451 ]\n",
      " [ 0.64537595  0.97157095  1.36863156  2.06074792  1.75534084 -0.24896415]\n",
      " [ 1.14282281 -1.16867804  0.75193303 -0.19236096  0.30154734 -0.03471177]\n",
      " [-0.88385744  0.38531738  0.15372511  0.21409374 -1.24573878  0.17318093]\n",
      " [ 0.06023021 -0.02651388  2.46324211  0.25755039 -0.07444592 -1.91877122]\n",
      " [ 0.95042384  1.87617084 -0.57690366 -0.75913266  0.15039379  0.34175598]\n",
      " [-2.12389572 -0.59939265 -0.52575502  2.18980293 -0.80829829 -0.83972184]\n",
      " [-0.81822068  0.59515703  2.09238728  0.32416635 -0.13014305  0.09699596]\n",
      " [ 0.04557184  0.21645859 -0.65160035 -0.71530371  0.67959775 -0.73036663]\n",
      " [-0.44429326 -0.97876372  0.37730049  1.03753994 -0.5100164  -0.26987494]\n",
      " [-0.5297602   0.32875111  0.51326743 -0.8084936  -0.50175704  0.91540212]\n",
      " [ 0.32271856 -0.28865864 -0.82723094 -0.01901621 -1.00252936 -0.01851314]\n",
      " [-0.02090159  0.61037027  0.11732738 -0.82899501 -0.56018104  0.74729361]\n",
      " [-0.8222204  -0.56372455  0.24368721 -0.8254972  -0.32138584  0.41293145]\n",
      " [-1.01283112 -0.56228753  0.31424733  0.24196227 -1.91328024 -1.72491783]\n",
      " [-0.46063877 -0.71984421  1.05712223 -0.11564828 -0.3011037  -1.47852199]\n",
      " [ 0.11351735 -0.3853136   0.66213067  0.1990597  -0.60021688  0.06980208]\n",
      " [-0.2176812  -0.20219265  1.09877685  1.2776649  -0.59157139  0.54709738]\n",
      " [ 0.33849641  1.14375404 -0.41528791  0.23561456  0.77086519 -1.47858625]\n",
      " [ 1.96472513 -1.19787789  0.03526355 -0.10703036 -1.03524232 -0.55364931]\n",
      " [-0.44651495 -1.51484722  0.85639879  0.47323762 -0.07282891 -0.84679372]\n",
      " [ 0.81286212  0.30729952  0.62962884  0.35701549 -0.6929096   0.89959988]\n",
      " [ 0.81252582 -1.19620662  1.35624003 -0.47917424 -0.18565898 -1.10633497]\n",
      " [ 0.02451017 -0.77300978  0.49799829  0.22409248  0.0125924   0.0976761 ]\n",
      " [ 1.00629281 -0.38455554 -0.57689187 -0.65183611  0.04739867 -0.86041337]\n",
      " [ 1.26691115 -0.48423407 -0.70766947  2.1221562   1.03246526 -1.51936997]\n",
      " [-0.31526924  0.65139125  0.75896922  0.57089051  1.13556564  0.95400176]\n",
      " [-0.23415337  1.52302986 -0.23413696  0.49671415 -0.1382643   0.64768854]\n",
      " [-0.46341769  0.54256004 -0.46572975  1.57921282  0.76743473 -0.46947439]\n",
      " [ 0.82206016  0.41278093  1.89679298  1.15859558 -0.82068232  0.96337613]\n",
      " [ 0.97511973 -0.67716171 -0.14705738 -0.01224677 -0.89725437  0.07580456]\n",
      " [-0.53025762  0.50404652 -0.79287283 -0.0626791   0.95514232 -0.98572605]\n",
      " [ 0.04852163 -0.86399077 -0.83095012 -0.65064257 -0.48712538 -0.59239392]\n",
      " [-0.1517851  -1.9520878   0.58831721  1.58601682 -1.2378155   2.13303337]\n",
      " [ 0.33126343 -0.30921238  0.97554513  1.03099952  0.93128012 -0.83921752]\n",
      " [ 0.73846658  0.19686124  0.17136828  0.2088636  -1.95967012 -1.32818605]\n",
      " [-0.44004449 -1.43014138  0.13074058 -0.25256815 -1.24778318  1.6324113 ]\n",
      " [ 0.69014399  0.40171172 -0.40122047  0.51934651  1.53273891 -0.10876015]\n",
      " [-1.59442766  1.23781631 -0.59937502 -1.71313453  1.35387237 -0.11453985]\n",
      " [-0.00797264  0.88163976  1.47994414 -0.64657288 -1.081548    1.68714164]\n",
      " [ 0.62411982  0.79166269  0.62834551 -1.00601738 -1.21418861  1.15811087]\n",
      " [ 0.82254491 -1.05771093 -1.22084365 -0.60170661  1.85227818 -0.01349722]\n",
      " [-0.22346279  0.48247242  0.71400049  0.62566735 -0.85715756 -1.0708925 ]\n",
      " [-0.97468167  0.65655361  0.7870846   1.86577451  0.47383292 -1.1913035 ]\n",
      " [ 0.58685709 -1.40185106  2.19045563  0.79103195 -0.90938745  1.40279431]\n",
      " [ 0.6141667  -0.2209696   0.75750771 -0.69972551  0.21397991 -0.11232805]\n",
      " [-1.18325851 -1.75873949 -2.03923218 -0.96492346  0.68605146  1.05842449]\n",
      " [-1.87079192 -1.00808631 -0.35151348  1.20121392 -0.40807537 -2.03812454]\n",
      " [-0.78325329  1.54993441 -0.32206152 -1.06230371  0.47359243 -0.91942423]\n",
      " [ 0.36139561 -0.64511975  1.53803657 -0.07201012  1.0035329   0.36163603]\n",
      " [-0.51386692 -0.93987979 -1.05921352 -1.3044695   0.66967255  0.36659825]\n",
      " [-1.06762043  0.62284993 -0.14237949  0.0052437   0.04698059 -0.45006547]\n",
      " [ 3.07888081  0.31125015  1.11957491  1.64496771 -0.24903604  0.57655696]\n",
      " [-1.51519106 -2.30192116  1.36687427 -0.53050115 -0.57581824 -0.2750517 ]\n",
      " [-1.41537074 -0.23458713 -0.42064532  0.29612028  0.26105527  0.00511346]\n",
      " [ 1.08305124  0.56078453  1.05380205  0.05820872 -1.1429703   0.35778736]\n",
      " [-0.4593609   0.24822059 -0.84984437  0.63278187  2.27069286  0.18186626]\n",
      " [-1.20029641  0.86575519 -0.33450124 -0.79252074 -0.11473644  0.50498728]\n",
      " [-1.26088395  0.40498171  0.91786195 -0.47494531 -0.65332923  1.76545424]\n",
      " [ 1.8861859   0.40405086  0.17457781 -0.34271452 -0.80227727 -0.16128571]\n",
      " [ 1.17929718  0.11567463  0.06751848  0.33231401 -0.74848654  1.55115198]\n",
      " [ 0.47897983 -0.47765745  0.33366211  0.83033582 -0.85608383  0.07156624]\n",
      " [-0.07710171 -0.81581028  0.34115197 -0.24538812 -0.75373616 -0.88951443]\n",
      " [-1.44808434  0.23204994 -1.40746377  0.24496657 -0.50694318 -0.47103831]\n",
      " [ 0.29307247  0.2322537  -0.71435142  0.25049285  0.34644821 -0.68002472]\n",
      " [ 0.0675282  -0.2257763  -1.42474819 -0.90802408 -1.4123037   1.46564877]\n",
      " [-1.55066343 -0.50347565  0.06856297 -0.99053633 -0.56629773  0.09965137]\n",
      " [ 1.62861555  0.07409478 -1.38010146 -0.26940683  0.71754226  1.50235705]\n",
      " [ 0.52194157 -1.32045661  0.29698467  0.25988279  0.78182287 -1.23695071]\n",
      " [ 1.17944012  1.83145877 -0.46917565 -0.89841467  0.49191917 -1.32023321]\n",
      " [-0.66178646  0.18645431  0.85243333  2.14394409  0.63391902 -2.02514259]\n",
      " [ 0.82940558 -0.21910053 -2.21113531  0.01841838  1.67643731  0.32692737]\n",
      " [ 1.47789404  0.35711257 -0.51827022  0.09176078 -1.98756891 -0.21967189]\n",
      " [-0.48760622 -0.41187697 -0.43255819  1.16778206  0.25442084  0.33760266]\n",
      " [-2.4716445   1.44156862 -0.79689526  0.83569211 -1.12970685  0.52980418]\n",
      " [-1.66940528  0.75138712  0.54336019  0.50091719 -0.97755524  0.09933231]\n",
      " [ 0.85765962  1.47535622 -0.15993853 -0.71844422 -0.21344715  0.31090757]\n",
      " [-0.26465683  1.45353408  2.72016917  0.2766908   0.82718325  0.01300189]\n",
      " [-2.0674421  -0.03269475 -0.08912004 -1.70338244 -0.0555477   0.38406545]\n",
      " [-0.75635075  0.20346364 -1.42225371 -0.12791759 -0.95554044 -1.60644632]\n",
      " [-1.60748323  1.30714275  0.18463386  0.81351722 -1.23086432  0.22745993]\n",
      " [-0.57677133 -0.90756366  0.75539123  0.27045683 -0.05023811 -0.23894805]\n",
      " [-3.24126734 -0.05952536 -1.02438764  0.44381943  0.77463405 -0.92693047]\n",
      " [ 0.68195297  0.02100384 -0.31026676  0.82541635  0.81350964  1.30547881]\n",
      " [-0.676922   -0.38508228  0.61167629  0.34361829 -1.76304016  0.32408397]\n",
      " [ 0.8711247   2.0754008  -0.32602353  0.39445214 -0.42098448  0.28977486]\n",
      " [ 0.06428002  1.0889506  -1.07774478  0.68626019 -1.61271587 -0.47193187]\n",
      " [ 2.31465857  0.08187414 -1.86726519 -0.77282521 -0.23681861 -0.48536355]\n",
      " [-0.60063869  0.37569802 -0.29169375 -0.54438272  0.11092259 -1.15099358]]\n"
     ]
    }
   ],
   "source": [
    "print(X)"
   ]
  },
  {
   "cell_type": "code",
   "execution_count": 4,
   "id": "762eb112-a4d6-481a-9b07-0610ba2f9719",
   "metadata": {},
   "outputs": [
    {
     "name": "stdout",
     "output_type": "stream",
     "text": [
      "[ -29.17548975 -190.1583977  -105.96389021  278.60982475 -254.92791649\n",
      "  -18.21174044    2.70799058  215.51299974  -79.65861277    1.55121017\n",
      "  -16.0012651   -33.88880277  337.34227617   60.00467584 -101.01259043\n",
      "   -1.30581048  173.12608722 -282.88324463   99.93859788  -38.25125729\n",
      " -105.52954341   23.23034043 -115.17438183   38.39614316  -92.38293737\n",
      " -346.29961548 -151.71606868  -14.6795519    57.51866659   28.82612202\n",
      "  -55.68757681 -137.00700912  133.20182865  -50.74656439   -7.60259898\n",
      "  -59.63739971   32.26111076  225.03962981  116.6521056    35.05452593\n",
      "  223.06656703  -43.41061132  -51.05177822 -189.91455799   -3.32767918\n",
      "   86.59206255 -159.18764186  -93.32153107  166.62479837  -13.58393135\n",
      "  164.79807396  100.74248531   42.01697297  -70.41377735    8.37574186\n",
      "  123.0880192    60.93874066 -201.73242598 -362.27406285  -28.80358615\n",
      "  164.13156638 -108.47528484  -70.81086474  355.68618196 -252.22734413\n",
      " -109.88960811  112.72076189  129.37637087  -36.30516981   57.31973911\n",
      "   88.99188843  158.08753015  -17.07544771 -163.35463708 -226.96728988\n",
      "  -21.5874031  -104.25295685 -192.61368848  196.78386132  -59.13163528\n",
      "   93.47105271  -38.61621      68.65340045  -59.9172131   -14.17253712\n",
      " -146.59756776  -90.26002608  135.85750252  289.31479904 -165.68375718\n",
      " -304.27172412  -71.4855001   -71.73365719 -284.88971245  203.52952115\n",
      " -134.34591455  175.30481659 -119.09067208   -5.26165247 -120.70331546]\n"
     ]
    }
   ],
   "source": [
    "print(y)"
   ]
  },
  {
   "cell_type": "markdown",
   "id": "9066956c-462d-4c86-9ef5-3a8e5fda60f3",
   "metadata": {},
   "source": [
    "We generate a synthetic dataset using make_regression from sklearn.datasets. This dataset simulates house price prediction with six features: number of bedrooms, square footage, presence of a garage, distance to the nearest school, age of the house, and presence of a swimming pool.\n",
    "\n",
    "\n",
    "1. n_samples=100: This specifies the number of samples in the dataset. In this case, we are generating 100 samples.\r",
    "2. \n",
    "n_features=6: This specifies the number of features (or independent variables) in the dataset. We have 6 features: number of bedrooms, square footage, presence of a garage, distance to the nearest school, age of the house, and presence of a swimming pol                                   .4. \r\n",
    "noise=0.1: This parameter controls the amount of noise in the dataset. A noise level of 0.1 means that the target variable (y) will have some random noise added to it. This is done to simulate real-world data where there may be some inherent randomness or measurement erro                                 r5. .\r\n",
    "random_state=42: This is a random seed that ensures reproducibility. Setting a random seed ensures that the random numbers generated by the function are the same each time the code is run. This helps in debugging and reproducing the same results."
   ]
  },
  {
   "cell_type": "code",
   "execution_count": 16,
   "id": "3c44000c-3672-4c64-86c3-ba3b7c98b69c",
   "metadata": {},
   "outputs": [],
   "source": [
    "# Convert to DataFrame\n",
    "df = pd.DataFrame(X, columns=[\"num_bedrooms\", \"square_footage\", \"has_garage\", \"distance_to_school\", \"age_of_house\", \"has_pool\"])\n",
    "df['price'] = y\n"
   ]
  },
  {
   "cell_type": "code",
   "execution_count": 7,
   "id": "d53295bb-ce2e-49e9-a50a-2828db303276",
   "metadata": {},
   "outputs": [],
   "source": [
    "# Split the dataset into train and test sets\n",
    "X_train, X_test, y_train, y_test = train_test_split(df.drop('price', axis=1), df['price'], test_size=0.2, random_state=42)\n",
    "\n",
    "# We split the dataset into training and testing sets using train_test_split from sklearn.model_selection."
   ]
  },
  {
   "cell_type": "code",
   "execution_count": 8,
   "id": "0620286d-9cb4-41dd-8aeb-074d59bd3604",
   "metadata": {},
   "outputs": [
    {
     "name": "stdout",
     "output_type": "stream",
     "text": [
      "Correlation Selected Features: ['num_bedrooms']\n"
     ]
    }
   ],
   "source": [
    "# 1. Filter Methods\n",
    "# Correlation\n",
    "correlation_scores = df.drop('price', axis=1).corrwith(df['price'])\n",
    "relevant_features_correlation = correlation_scores[abs(correlation_scores) > 0.5].index.tolist()\n",
    "print(\"Correlation Selected Features:\", relevant_features_correlation)\n",
    "\n",
    "# We calculate the correlation coefficients between each feature and the target variable (price). Features with absolute correlation scores greater than 0.5 are selected as relevant."
   ]
  },
  {
   "cell_type": "code",
   "execution_count": 9,
   "id": "c518402e-f46a-4cc8-98b8-f35ced9baf54",
   "metadata": {},
   "outputs": [
    {
     "name": "stdout",
     "output_type": "stream",
     "text": [
      "Mutual Information Selected Features: ['num_bedrooms', 'has_pool']\n"
     ]
    }
   ],
   "source": [
    "# Mutual Information\n",
    "mi_scores = mutual_info_regression(X_train, y_train)\n",
    "relevant_features_mi = df.columns[:-1][mi_scores > 0.1]  # Adjust threshold as needed\n",
    "print(\"Mutual Information Selected Features:\", relevant_features_mi.tolist())\n",
    "\n",
    "# We compute the mutual information between each feature and the target variable using mutual_info_regression from sklearn.feature_selection. Features with mutual information scores greater than 0.1 are selected."
   ]
  },
  {
   "cell_type": "code",
   "execution_count": 10,
   "id": "2cfe4c5a-a071-4479-a24c-550706e47e8c",
   "metadata": {},
   "outputs": [
    {
     "name": "stdout",
     "output_type": "stream",
     "text": [
      "RFE Selected Features: ['num_bedrooms', 'square_footage', 'has_pool']\n"
     ]
    }
   ],
   "source": [
    "# 2. Wrapper Methods\n",
    "# Recursive Feature Elimination (RFE)\n",
    "model = RandomForestRegressor(random_state=42)\n",
    "rfe = RFE(model, n_features_to_select=3)  # Select top 3 features\n",
    "rfe.fit(X_train, y_train)\n",
    "relevant_features_rfe = df.columns[:-1][rfe.support_]\n",
    "print(\"RFE Selected Features:\", relevant_features_rfe.tolist())\n",
    "\n",
    "# We use RFE from sklearn.feature_selection with a random forest regressor as the estimator. It recursively removes features until the desired number of features is reached (in this case, 3)."
   ]
  },
  {
   "cell_type": "code",
   "execution_count": 11,
   "id": "8f01ea9b-b8bd-4500-bcf7-34c745920eb4",
   "metadata": {},
   "outputs": [
    {
     "name": "stdout",
     "output_type": "stream",
     "text": [
      "Lasso Selected Features: ['num_bedrooms', 'square_footage', 'has_garage', 'distance_to_school', 'age_of_house', 'has_pool']\n"
     ]
    }
   ],
   "source": [
    "# 3. Embedded Methods\n",
    "# Lasso Regression\n",
    "lasso = Lasso(alpha=0.1)\n",
    "lasso.fit(X_train, y_train)\n",
    "relevant_features_lasso = df.columns[:-1][lasso.coef_ != 0]\n",
    "print(\"Lasso Selected Features:\", relevant_features_lasso.tolist()) \n",
    "\n",
    "# We train a Lasso regression model using Lasso from sklearn.linear_model with an alpha value of 0.1. Features with non-zero coefficients are selected."
   ]
  },
  {
   "cell_type": "code",
   "execution_count": 12,
   "id": "ea307e7f-1420-4e4c-ad17-3cf10d297f14",
   "metadata": {},
   "outputs": [
    {
     "name": "stdout",
     "output_type": "stream",
     "text": [
      "Random Forest Feature Importance Selected Features: ['num_bedrooms', 'square_footage', 'has_pool']\n"
     ]
    }
   ],
   "source": [
    "# Random Forest Feature Importance\n",
    "forest = RandomForestRegressor(random_state=42)\n",
    "forest.fit(X_train, y_train)\n",
    "feature_importances = forest.feature_importances_\n",
    "relevant_features_forest = df.columns[:-1][feature_importances > 0.1]  # Adjust threshold as needed\n",
    "print(\"Random Forest Feature Importance Selected Features:\", relevant_features_forest.tolist())\n",
    "\n",
    "# We train a random forest model using RandomForestRegressor from sklearn.ensemble. Features with importance scores greater than 0.1 are selected."
   ]
  },
  {
   "cell_type": "code",
   "execution_count": 13,
   "id": "c084b6ee-c46f-4fcc-a6c0-094245b03648",
   "metadata": {},
   "outputs": [
    {
     "name": "stdout",
     "output_type": "stream",
     "text": [
      "Gradient Boosting Feature Importance Selected Features: ['num_bedrooms', 'square_footage', 'has_pool']\n"
     ]
    }
   ],
   "source": [
    "# Gradient Boosting Feature Importance\n",
    "gb = GradientBoostingRegressor(random_state=42)\n",
    "gb.fit(X_train, y_train)\n",
    "feature_importances_gb = gb.feature_importances_\n",
    "relevant_features_gb = df.columns[:-1][feature_importances_gb > 0.1]  # Adjust threshold as needed\n",
    "print(\"Gradient Boosting Feature Importance Selected Features:\", relevant_features_gb.tolist())\n",
    "\n",
    "\n",
    "# We train a gradient boosting model using GradientBoostingRegressor from sklearn.ensemble. Features with importance scores greater than 0.1 are selected."
   ]
  },
  {
   "cell_type": "code",
   "execution_count": 14,
   "id": "8cd16b3d-1823-4ec3-bddc-d88534bd9cb9",
   "metadata": {},
   "outputs": [
    {
     "name": "stdout",
     "output_type": "stream",
     "text": [
      "PCA Transformed Features: [[ 2.59337862  0.15156365]\n",
      " [ 1.48524782 -0.4056936 ]\n",
      " [-0.06427952 -0.73711137]\n",
      " [-1.6360316   0.11958012]\n",
      " [ 1.35946222 -1.07186992]\n",
      " [ 0.80560908 -0.62442595]\n",
      " [ 2.3283638   0.326333  ]\n",
      " [ 0.41169391  0.8998266 ]\n",
      " [ 0.63088141 -0.74070555]\n",
      " [ 0.67831997  0.27811325]\n",
      " [-2.12825639  0.50790456]\n",
      " [ 1.12470988 -0.33356721]\n",
      " [-0.49778537 -2.17069466]\n",
      " [ 1.12911366 -0.376078  ]\n",
      " [-2.51477929 -2.28885415]\n",
      " [ 0.40387127 -1.11170357]\n",
      " [ 1.69914573  0.57365716]\n",
      " [-0.90892344 -0.83666118]\n",
      " [-0.62633384  1.17628112]\n",
      " [ 0.02530362  1.27704228]\n",
      " [-1.51193858 -0.57934443]\n",
      " [ 0.26967514  0.17305881]\n",
      " [ 3.49091235 -0.45758697]\n",
      " [ 1.07920453 -1.09107241]\n",
      " [ 0.70045465 -0.02077993]\n",
      " [-1.13918128  0.56588618]\n",
      " [-0.90856487 -0.70608363]\n",
      " [-0.12448329 -1.67902054]\n",
      " [-0.66811449 -0.75911085]\n",
      " [ 0.55601811  1.21456166]\n",
      " [ 0.17182178 -0.5709772 ]\n",
      " [ 0.81058494  1.62240363]\n",
      " [-1.1450194  -1.98937226]\n",
      " [ 0.15828109  0.06503539]\n",
      " [ 0.50148791 -0.73993157]\n",
      " [-0.18398209  2.49597728]\n",
      " [ 1.11524379 -1.53731129]\n",
      " [ 0.4323699  -1.6004133 ]\n",
      " [-1.43460678  1.62084962]\n",
      " [-0.50758648 -1.50525433]\n",
      " [ 0.4807573   0.68194008]\n",
      " [-1.0039973  -0.37075246]\n",
      " [-0.54840366 -0.90641829]\n",
      " [-0.74637949  0.25007442]\n",
      " [ 2.30541694 -0.26483561]\n",
      " [-1.73050833  0.83379963]\n",
      " [ 0.53776898 -0.06582616]\n",
      " [-0.29669016 -0.73040422]\n",
      " [-1.14086748  0.3813491 ]\n",
      " [-0.23459178 -0.15728001]\n",
      " [-0.73484242  0.74934029]\n",
      " [ 0.5016812   0.84735018]\n",
      " [-1.70539763 -1.80789053]\n",
      " [-0.87547384  1.44177165]\n",
      " [-0.81709278  2.59000939]\n",
      " [-1.76438362  0.14666417]\n",
      " [-0.94829485  0.66487451]\n",
      " [ 1.35291904  0.67712696]\n",
      " [ 0.14091742  1.37825291]\n",
      " [-1.04840649 -0.3862832 ]\n",
      " [ 1.98327012  2.6537548 ]\n",
      " [-0.51406823  0.0239675 ]\n",
      " [ 0.3387131   0.28491723]\n",
      " [-1.2281497   0.63419915]\n",
      " [-0.34776546  0.28050507]\n",
      " [-1.59641295  1.95755443]\n",
      " [ 0.82070969 -0.39083657]\n",
      " [-1.99779607  0.47207405]\n",
      " [ 0.65720253  0.10047978]\n",
      " [ 0.41309907  0.97368532]\n",
      " [ 0.33485413 -1.71074969]\n",
      " [-1.45293869 -0.99282273]\n",
      " [ 0.36045582 -1.75407085]\n",
      " [-2.00092273  2.14411148]\n",
      " [ 0.09101808 -0.47227485]\n",
      " [ 0.78321455  0.62388554]\n",
      " [ 1.38107759  1.22299737]\n",
      " [ 0.44820285 -1.02772947]\n",
      " [ 0.13843812 -0.49374765]\n",
      " [ 1.70237862  0.38278684]]\n"
     ]
    }
   ],
   "source": [
    "# 4. Dimensionality Reduction Techniques\n",
    "# PCA\n",
    "pca = PCA(n_components=2)\n",
    "pca.fit(X_train)\n",
    "X_train_pca = pca.transform(X_train)\n",
    "print(\"PCA Transformed Features:\", X_train_pca)\n",
    "\n",
    "# We use PCA from sklearn.decomposition to transform the original features into a lower-dimensional space with two components."
   ]
  },
  {
   "cell_type": "code",
   "execution_count": 15,
   "id": "75bb56e9-9322-4708-8550-7d237736cc4e",
   "metadata": {},
   "outputs": [
    {
     "ename": "AttributeError",
     "evalue": "'NoneType' object has no attribute 'split'",
     "output_type": "error",
     "traceback": [
      "\u001b[1;31m---------------------------------------------------------------------------\u001b[0m",
      "\u001b[1;31mAttributeError\u001b[0m                            Traceback (most recent call last)",
      "Cell \u001b[1;32mIn[15], line 3\u001b[0m\n\u001b[0;32m      1\u001b[0m \u001b[38;5;66;03m# t-SNE\u001b[39;00m\n\u001b[0;32m      2\u001b[0m tsne \u001b[38;5;241m=\u001b[39m TSNE(n_components\u001b[38;5;241m=\u001b[39m\u001b[38;5;241m2\u001b[39m)\n\u001b[1;32m----> 3\u001b[0m X_train_tsne \u001b[38;5;241m=\u001b[39m tsne\u001b[38;5;241m.\u001b[39mfit_transform(X_train)\n\u001b[0;32m      4\u001b[0m \u001b[38;5;28mprint\u001b[39m(\u001b[38;5;124m\"\u001b[39m\u001b[38;5;124mt-SNE Transformed Features:\u001b[39m\u001b[38;5;124m\"\u001b[39m, X_train_tsne)\n",
      "File \u001b[1;32m~\\anaconda3\\Lib\\site-packages\\sklearn\\manifold\\_t_sne.py:1119\u001b[0m, in \u001b[0;36mTSNE.fit_transform\u001b[1;34m(self, X, y)\u001b[0m\n\u001b[0;32m   1117\u001b[0m \u001b[38;5;28mself\u001b[39m\u001b[38;5;241m.\u001b[39m_validate_params()\n\u001b[0;32m   1118\u001b[0m \u001b[38;5;28mself\u001b[39m\u001b[38;5;241m.\u001b[39m_check_params_vs_input(X)\n\u001b[1;32m-> 1119\u001b[0m embedding \u001b[38;5;241m=\u001b[39m \u001b[38;5;28mself\u001b[39m\u001b[38;5;241m.\u001b[39m_fit(X)\n\u001b[0;32m   1120\u001b[0m \u001b[38;5;28mself\u001b[39m\u001b[38;5;241m.\u001b[39membedding_ \u001b[38;5;241m=\u001b[39m embedding\n\u001b[0;32m   1121\u001b[0m \u001b[38;5;28;01mreturn\u001b[39;00m \u001b[38;5;28mself\u001b[39m\u001b[38;5;241m.\u001b[39membedding_\n",
      "File \u001b[1;32m~\\anaconda3\\Lib\\site-packages\\sklearn\\manifold\\_t_sne.py:963\u001b[0m, in \u001b[0;36mTSNE._fit\u001b[1;34m(self, X, skip_num_points)\u001b[0m\n\u001b[0;32m    956\u001b[0m     \u001b[38;5;28mprint\u001b[39m(\n\u001b[0;32m    957\u001b[0m         \u001b[38;5;124m\"\u001b[39m\u001b[38;5;124m[t-SNE] Indexed \u001b[39m\u001b[38;5;132;01m{}\u001b[39;00m\u001b[38;5;124m samples in \u001b[39m\u001b[38;5;132;01m{:.3f}\u001b[39;00m\u001b[38;5;124ms...\u001b[39m\u001b[38;5;124m\"\u001b[39m\u001b[38;5;241m.\u001b[39mformat(\n\u001b[0;32m    958\u001b[0m             n_samples, duration\n\u001b[0;32m    959\u001b[0m         )\n\u001b[0;32m    960\u001b[0m     )\n\u001b[0;32m    962\u001b[0m t0 \u001b[38;5;241m=\u001b[39m time()\n\u001b[1;32m--> 963\u001b[0m distances_nn \u001b[38;5;241m=\u001b[39m knn\u001b[38;5;241m.\u001b[39mkneighbors_graph(mode\u001b[38;5;241m=\u001b[39m\u001b[38;5;124m\"\u001b[39m\u001b[38;5;124mdistance\u001b[39m\u001b[38;5;124m\"\u001b[39m)\n\u001b[0;32m    964\u001b[0m duration \u001b[38;5;241m=\u001b[39m time() \u001b[38;5;241m-\u001b[39m t0\n\u001b[0;32m    965\u001b[0m \u001b[38;5;28;01mif\u001b[39;00m \u001b[38;5;28mself\u001b[39m\u001b[38;5;241m.\u001b[39mverbose:\n",
      "File \u001b[1;32m~\\anaconda3\\Lib\\site-packages\\sklearn\\neighbors\\_base.py:988\u001b[0m, in \u001b[0;36mKNeighborsMixin.kneighbors_graph\u001b[1;34m(self, X, n_neighbors, mode)\u001b[0m\n\u001b[0;32m    985\u001b[0m     A_data \u001b[38;5;241m=\u001b[39m np\u001b[38;5;241m.\u001b[39mones(n_queries \u001b[38;5;241m*\u001b[39m n_neighbors)\n\u001b[0;32m    987\u001b[0m \u001b[38;5;28;01melif\u001b[39;00m mode \u001b[38;5;241m==\u001b[39m \u001b[38;5;124m\"\u001b[39m\u001b[38;5;124mdistance\u001b[39m\u001b[38;5;124m\"\u001b[39m:\n\u001b[1;32m--> 988\u001b[0m     A_data, A_ind \u001b[38;5;241m=\u001b[39m \u001b[38;5;28mself\u001b[39m\u001b[38;5;241m.\u001b[39mkneighbors(X, n_neighbors, return_distance\u001b[38;5;241m=\u001b[39m\u001b[38;5;28;01mTrue\u001b[39;00m)\n\u001b[0;32m    989\u001b[0m     A_data \u001b[38;5;241m=\u001b[39m np\u001b[38;5;241m.\u001b[39mravel(A_data)\n\u001b[0;32m    991\u001b[0m \u001b[38;5;28;01melse\u001b[39;00m:\n",
      "File \u001b[1;32m~\\anaconda3\\Lib\\site-packages\\sklearn\\neighbors\\_base.py:824\u001b[0m, in \u001b[0;36mKNeighborsMixin.kneighbors\u001b[1;34m(self, X, n_neighbors, return_distance)\u001b[0m\n\u001b[0;32m    817\u001b[0m use_pairwise_distances_reductions \u001b[38;5;241m=\u001b[39m (\n\u001b[0;32m    818\u001b[0m     \u001b[38;5;28mself\u001b[39m\u001b[38;5;241m.\u001b[39m_fit_method \u001b[38;5;241m==\u001b[39m \u001b[38;5;124m\"\u001b[39m\u001b[38;5;124mbrute\u001b[39m\u001b[38;5;124m\"\u001b[39m\n\u001b[0;32m    819\u001b[0m     \u001b[38;5;129;01mand\u001b[39;00m ArgKmin\u001b[38;5;241m.\u001b[39mis_usable_for(\n\u001b[0;32m    820\u001b[0m         X \u001b[38;5;28;01mif\u001b[39;00m X \u001b[38;5;129;01mis\u001b[39;00m \u001b[38;5;129;01mnot\u001b[39;00m \u001b[38;5;28;01mNone\u001b[39;00m \u001b[38;5;28;01melse\u001b[39;00m \u001b[38;5;28mself\u001b[39m\u001b[38;5;241m.\u001b[39m_fit_X, \u001b[38;5;28mself\u001b[39m\u001b[38;5;241m.\u001b[39m_fit_X, \u001b[38;5;28mself\u001b[39m\u001b[38;5;241m.\u001b[39meffective_metric_\n\u001b[0;32m    821\u001b[0m     )\n\u001b[0;32m    822\u001b[0m )\n\u001b[0;32m    823\u001b[0m \u001b[38;5;28;01mif\u001b[39;00m use_pairwise_distances_reductions:\n\u001b[1;32m--> 824\u001b[0m     results \u001b[38;5;241m=\u001b[39m ArgKmin\u001b[38;5;241m.\u001b[39mcompute(\n\u001b[0;32m    825\u001b[0m         X\u001b[38;5;241m=\u001b[39mX,\n\u001b[0;32m    826\u001b[0m         Y\u001b[38;5;241m=\u001b[39m\u001b[38;5;28mself\u001b[39m\u001b[38;5;241m.\u001b[39m_fit_X,\n\u001b[0;32m    827\u001b[0m         k\u001b[38;5;241m=\u001b[39mn_neighbors,\n\u001b[0;32m    828\u001b[0m         metric\u001b[38;5;241m=\u001b[39m\u001b[38;5;28mself\u001b[39m\u001b[38;5;241m.\u001b[39meffective_metric_,\n\u001b[0;32m    829\u001b[0m         metric_kwargs\u001b[38;5;241m=\u001b[39m\u001b[38;5;28mself\u001b[39m\u001b[38;5;241m.\u001b[39meffective_metric_params_,\n\u001b[0;32m    830\u001b[0m         strategy\u001b[38;5;241m=\u001b[39m\u001b[38;5;124m\"\u001b[39m\u001b[38;5;124mauto\u001b[39m\u001b[38;5;124m\"\u001b[39m,\n\u001b[0;32m    831\u001b[0m         return_distance\u001b[38;5;241m=\u001b[39mreturn_distance,\n\u001b[0;32m    832\u001b[0m     )\n\u001b[0;32m    834\u001b[0m \u001b[38;5;28;01melif\u001b[39;00m (\n\u001b[0;32m    835\u001b[0m     \u001b[38;5;28mself\u001b[39m\u001b[38;5;241m.\u001b[39m_fit_method \u001b[38;5;241m==\u001b[39m \u001b[38;5;124m\"\u001b[39m\u001b[38;5;124mbrute\u001b[39m\u001b[38;5;124m\"\u001b[39m \u001b[38;5;129;01mand\u001b[39;00m \u001b[38;5;28mself\u001b[39m\u001b[38;5;241m.\u001b[39mmetric \u001b[38;5;241m==\u001b[39m \u001b[38;5;124m\"\u001b[39m\u001b[38;5;124mprecomputed\u001b[39m\u001b[38;5;124m\"\u001b[39m \u001b[38;5;129;01mand\u001b[39;00m issparse(X)\n\u001b[0;32m    836\u001b[0m ):\n\u001b[0;32m    837\u001b[0m     results \u001b[38;5;241m=\u001b[39m _kneighbors_from_graph(\n\u001b[0;32m    838\u001b[0m         X, n_neighbors\u001b[38;5;241m=\u001b[39mn_neighbors, return_distance\u001b[38;5;241m=\u001b[39mreturn_distance\n\u001b[0;32m    839\u001b[0m     )\n",
      "File \u001b[1;32m~\\anaconda3\\Lib\\site-packages\\sklearn\\metrics\\_pairwise_distances_reduction\\_dispatcher.py:277\u001b[0m, in \u001b[0;36mArgKmin.compute\u001b[1;34m(cls, X, Y, k, metric, chunk_size, metric_kwargs, strategy, return_distance)\u001b[0m\n\u001b[0;32m    196\u001b[0m \u001b[38;5;250m\u001b[39m\u001b[38;5;124;03m\"\"\"Compute the argkmin reduction.\u001b[39;00m\n\u001b[0;32m    197\u001b[0m \n\u001b[0;32m    198\u001b[0m \u001b[38;5;124;03mParameters\u001b[39;00m\n\u001b[1;32m   (...)\u001b[0m\n\u001b[0;32m    274\u001b[0m \u001b[38;5;124;03mreturns.\u001b[39;00m\n\u001b[0;32m    275\u001b[0m \u001b[38;5;124;03m\"\"\"\u001b[39;00m\n\u001b[0;32m    276\u001b[0m \u001b[38;5;28;01mif\u001b[39;00m X\u001b[38;5;241m.\u001b[39mdtype \u001b[38;5;241m==\u001b[39m Y\u001b[38;5;241m.\u001b[39mdtype \u001b[38;5;241m==\u001b[39m np\u001b[38;5;241m.\u001b[39mfloat64:\n\u001b[1;32m--> 277\u001b[0m     \u001b[38;5;28;01mreturn\u001b[39;00m ArgKmin64\u001b[38;5;241m.\u001b[39mcompute(\n\u001b[0;32m    278\u001b[0m         X\u001b[38;5;241m=\u001b[39mX,\n\u001b[0;32m    279\u001b[0m         Y\u001b[38;5;241m=\u001b[39mY,\n\u001b[0;32m    280\u001b[0m         k\u001b[38;5;241m=\u001b[39mk,\n\u001b[0;32m    281\u001b[0m         metric\u001b[38;5;241m=\u001b[39mmetric,\n\u001b[0;32m    282\u001b[0m         chunk_size\u001b[38;5;241m=\u001b[39mchunk_size,\n\u001b[0;32m    283\u001b[0m         metric_kwargs\u001b[38;5;241m=\u001b[39mmetric_kwargs,\n\u001b[0;32m    284\u001b[0m         strategy\u001b[38;5;241m=\u001b[39mstrategy,\n\u001b[0;32m    285\u001b[0m         return_distance\u001b[38;5;241m=\u001b[39mreturn_distance,\n\u001b[0;32m    286\u001b[0m     )\n\u001b[0;32m    288\u001b[0m \u001b[38;5;28;01mif\u001b[39;00m X\u001b[38;5;241m.\u001b[39mdtype \u001b[38;5;241m==\u001b[39m Y\u001b[38;5;241m.\u001b[39mdtype \u001b[38;5;241m==\u001b[39m np\u001b[38;5;241m.\u001b[39mfloat32:\n\u001b[0;32m    289\u001b[0m     \u001b[38;5;28;01mreturn\u001b[39;00m ArgKmin32\u001b[38;5;241m.\u001b[39mcompute(\n\u001b[0;32m    290\u001b[0m         X\u001b[38;5;241m=\u001b[39mX,\n\u001b[0;32m    291\u001b[0m         Y\u001b[38;5;241m=\u001b[39mY,\n\u001b[1;32m   (...)\u001b[0m\n\u001b[0;32m    297\u001b[0m         return_distance\u001b[38;5;241m=\u001b[39mreturn_distance,\n\u001b[0;32m    298\u001b[0m     )\n",
      "File \u001b[1;32msklearn\\metrics\\_pairwise_distances_reduction\\_argkmin.pyx:95\u001b[0m, in \u001b[0;36msklearn.metrics._pairwise_distances_reduction._argkmin.ArgKmin64.compute\u001b[1;34m()\u001b[0m\n",
      "File \u001b[1;32m~\\anaconda3\\Lib\\site-packages\\sklearn\\utils\\fixes.py:139\u001b[0m, in \u001b[0;36mthreadpool_limits\u001b[1;34m(limits, user_api)\u001b[0m\n\u001b[0;32m    137\u001b[0m     \u001b[38;5;28;01mreturn\u001b[39;00m controller\u001b[38;5;241m.\u001b[39mlimit(limits\u001b[38;5;241m=\u001b[39mlimits, user_api\u001b[38;5;241m=\u001b[39muser_api)\n\u001b[0;32m    138\u001b[0m \u001b[38;5;28;01melse\u001b[39;00m:\n\u001b[1;32m--> 139\u001b[0m     \u001b[38;5;28;01mreturn\u001b[39;00m threadpoolctl\u001b[38;5;241m.\u001b[39mthreadpool_limits(limits\u001b[38;5;241m=\u001b[39mlimits, user_api\u001b[38;5;241m=\u001b[39muser_api)\n",
      "File \u001b[1;32m~\\anaconda3\\Lib\\site-packages\\threadpoolctl.py:171\u001b[0m, in \u001b[0;36mthreadpool_limits.__init__\u001b[1;34m(self, limits, user_api)\u001b[0m\n\u001b[0;32m    167\u001b[0m \u001b[38;5;28;01mdef\u001b[39;00m \u001b[38;5;21m__init__\u001b[39m(\u001b[38;5;28mself\u001b[39m, limits\u001b[38;5;241m=\u001b[39m\u001b[38;5;28;01mNone\u001b[39;00m, user_api\u001b[38;5;241m=\u001b[39m\u001b[38;5;28;01mNone\u001b[39;00m):\n\u001b[0;32m    168\u001b[0m     \u001b[38;5;28mself\u001b[39m\u001b[38;5;241m.\u001b[39m_limits, \u001b[38;5;28mself\u001b[39m\u001b[38;5;241m.\u001b[39m_user_api, \u001b[38;5;28mself\u001b[39m\u001b[38;5;241m.\u001b[39m_prefixes \u001b[38;5;241m=\u001b[39m \\\n\u001b[0;32m    169\u001b[0m         \u001b[38;5;28mself\u001b[39m\u001b[38;5;241m.\u001b[39m_check_params(limits, user_api)\n\u001b[1;32m--> 171\u001b[0m     \u001b[38;5;28mself\u001b[39m\u001b[38;5;241m.\u001b[39m_original_info \u001b[38;5;241m=\u001b[39m \u001b[38;5;28mself\u001b[39m\u001b[38;5;241m.\u001b[39m_set_threadpool_limits()\n",
      "File \u001b[1;32m~\\anaconda3\\Lib\\site-packages\\threadpoolctl.py:268\u001b[0m, in \u001b[0;36mthreadpool_limits._set_threadpool_limits\u001b[1;34m(self)\u001b[0m\n\u001b[0;32m    265\u001b[0m \u001b[38;5;28;01mif\u001b[39;00m \u001b[38;5;28mself\u001b[39m\u001b[38;5;241m.\u001b[39m_limits \u001b[38;5;129;01mis\u001b[39;00m \u001b[38;5;28;01mNone\u001b[39;00m:\n\u001b[0;32m    266\u001b[0m     \u001b[38;5;28;01mreturn\u001b[39;00m \u001b[38;5;28;01mNone\u001b[39;00m\n\u001b[1;32m--> 268\u001b[0m modules \u001b[38;5;241m=\u001b[39m _ThreadpoolInfo(prefixes\u001b[38;5;241m=\u001b[39m\u001b[38;5;28mself\u001b[39m\u001b[38;5;241m.\u001b[39m_prefixes,\n\u001b[0;32m    269\u001b[0m                           user_api\u001b[38;5;241m=\u001b[39m\u001b[38;5;28mself\u001b[39m\u001b[38;5;241m.\u001b[39m_user_api)\n\u001b[0;32m    270\u001b[0m \u001b[38;5;28;01mfor\u001b[39;00m module \u001b[38;5;129;01min\u001b[39;00m modules:\n\u001b[0;32m    271\u001b[0m     \u001b[38;5;66;03m# self._limits is a dict {key: num_threads} where key is either\u001b[39;00m\n\u001b[0;32m    272\u001b[0m     \u001b[38;5;66;03m# a prefix or a user_api. If a module matches both, the limit\u001b[39;00m\n\u001b[0;32m    273\u001b[0m     \u001b[38;5;66;03m# corresponding to the prefix is chosed.\u001b[39;00m\n\u001b[0;32m    274\u001b[0m     \u001b[38;5;28;01mif\u001b[39;00m module\u001b[38;5;241m.\u001b[39mprefix \u001b[38;5;129;01min\u001b[39;00m \u001b[38;5;28mself\u001b[39m\u001b[38;5;241m.\u001b[39m_limits:\n",
      "File \u001b[1;32m~\\anaconda3\\Lib\\site-packages\\threadpoolctl.py:340\u001b[0m, in \u001b[0;36m_ThreadpoolInfo.__init__\u001b[1;34m(self, user_api, prefixes, modules)\u001b[0m\n\u001b[0;32m    337\u001b[0m     \u001b[38;5;28mself\u001b[39m\u001b[38;5;241m.\u001b[39muser_api \u001b[38;5;241m=\u001b[39m [] \u001b[38;5;28;01mif\u001b[39;00m user_api \u001b[38;5;129;01mis\u001b[39;00m \u001b[38;5;28;01mNone\u001b[39;00m \u001b[38;5;28;01melse\u001b[39;00m user_api\n\u001b[0;32m    339\u001b[0m     \u001b[38;5;28mself\u001b[39m\u001b[38;5;241m.\u001b[39mmodules \u001b[38;5;241m=\u001b[39m []\n\u001b[1;32m--> 340\u001b[0m     \u001b[38;5;28mself\u001b[39m\u001b[38;5;241m.\u001b[39m_load_modules()\n\u001b[0;32m    341\u001b[0m     \u001b[38;5;28mself\u001b[39m\u001b[38;5;241m.\u001b[39m_warn_if_incompatible_openmp()\n\u001b[0;32m    342\u001b[0m \u001b[38;5;28;01melse\u001b[39;00m:\n",
      "File \u001b[1;32m~\\anaconda3\\Lib\\site-packages\\threadpoolctl.py:373\u001b[0m, in \u001b[0;36m_ThreadpoolInfo._load_modules\u001b[1;34m(self)\u001b[0m\n\u001b[0;32m    371\u001b[0m     \u001b[38;5;28mself\u001b[39m\u001b[38;5;241m.\u001b[39m_find_modules_with_dyld()\n\u001b[0;32m    372\u001b[0m \u001b[38;5;28;01melif\u001b[39;00m sys\u001b[38;5;241m.\u001b[39mplatform \u001b[38;5;241m==\u001b[39m \u001b[38;5;124m\"\u001b[39m\u001b[38;5;124mwin32\u001b[39m\u001b[38;5;124m\"\u001b[39m:\n\u001b[1;32m--> 373\u001b[0m     \u001b[38;5;28mself\u001b[39m\u001b[38;5;241m.\u001b[39m_find_modules_with_enum_process_module_ex()\n\u001b[0;32m    374\u001b[0m \u001b[38;5;28;01melse\u001b[39;00m:\n\u001b[0;32m    375\u001b[0m     \u001b[38;5;28mself\u001b[39m\u001b[38;5;241m.\u001b[39m_find_modules_with_dl_iterate_phdr()\n",
      "File \u001b[1;32m~\\anaconda3\\Lib\\site-packages\\threadpoolctl.py:485\u001b[0m, in \u001b[0;36m_ThreadpoolInfo._find_modules_with_enum_process_module_ex\u001b[1;34m(self)\u001b[0m\n\u001b[0;32m    482\u001b[0m         filepath \u001b[38;5;241m=\u001b[39m buf\u001b[38;5;241m.\u001b[39mvalue\n\u001b[0;32m    484\u001b[0m         \u001b[38;5;66;03m# Store the module if it is supported and selected\u001b[39;00m\n\u001b[1;32m--> 485\u001b[0m         \u001b[38;5;28mself\u001b[39m\u001b[38;5;241m.\u001b[39m_make_module_from_path(filepath)\n\u001b[0;32m    486\u001b[0m \u001b[38;5;28;01mfinally\u001b[39;00m:\n\u001b[0;32m    487\u001b[0m     kernel_32\u001b[38;5;241m.\u001b[39mCloseHandle(h_process)\n",
      "File \u001b[1;32m~\\anaconda3\\Lib\\site-packages\\threadpoolctl.py:515\u001b[0m, in \u001b[0;36m_ThreadpoolInfo._make_module_from_path\u001b[1;34m(self, filepath)\u001b[0m\n\u001b[0;32m    513\u001b[0m \u001b[38;5;28;01mif\u001b[39;00m prefix \u001b[38;5;129;01min\u001b[39;00m \u001b[38;5;28mself\u001b[39m\u001b[38;5;241m.\u001b[39mprefixes \u001b[38;5;129;01mor\u001b[39;00m user_api \u001b[38;5;129;01min\u001b[39;00m \u001b[38;5;28mself\u001b[39m\u001b[38;5;241m.\u001b[39muser_api:\n\u001b[0;32m    514\u001b[0m     module_class \u001b[38;5;241m=\u001b[39m \u001b[38;5;28mglobals\u001b[39m()[module_class]\n\u001b[1;32m--> 515\u001b[0m     module \u001b[38;5;241m=\u001b[39m module_class(filepath, prefix, user_api, internal_api)\n\u001b[0;32m    516\u001b[0m     \u001b[38;5;28mself\u001b[39m\u001b[38;5;241m.\u001b[39mmodules\u001b[38;5;241m.\u001b[39mappend(module)\n",
      "File \u001b[1;32m~\\anaconda3\\Lib\\site-packages\\threadpoolctl.py:606\u001b[0m, in \u001b[0;36m_Module.__init__\u001b[1;34m(self, filepath, prefix, user_api, internal_api)\u001b[0m\n\u001b[0;32m    604\u001b[0m \u001b[38;5;28mself\u001b[39m\u001b[38;5;241m.\u001b[39minternal_api \u001b[38;5;241m=\u001b[39m internal_api\n\u001b[0;32m    605\u001b[0m \u001b[38;5;28mself\u001b[39m\u001b[38;5;241m.\u001b[39m_dynlib \u001b[38;5;241m=\u001b[39m ctypes\u001b[38;5;241m.\u001b[39mCDLL(filepath, mode\u001b[38;5;241m=\u001b[39m_RTLD_NOLOAD)\n\u001b[1;32m--> 606\u001b[0m \u001b[38;5;28mself\u001b[39m\u001b[38;5;241m.\u001b[39mversion \u001b[38;5;241m=\u001b[39m \u001b[38;5;28mself\u001b[39m\u001b[38;5;241m.\u001b[39mget_version()\n\u001b[0;32m    607\u001b[0m \u001b[38;5;28mself\u001b[39m\u001b[38;5;241m.\u001b[39mnum_threads \u001b[38;5;241m=\u001b[39m \u001b[38;5;28mself\u001b[39m\u001b[38;5;241m.\u001b[39mget_num_threads()\n\u001b[0;32m    608\u001b[0m \u001b[38;5;28mself\u001b[39m\u001b[38;5;241m.\u001b[39m_get_extra_info()\n",
      "File \u001b[1;32m~\\anaconda3\\Lib\\site-packages\\threadpoolctl.py:646\u001b[0m, in \u001b[0;36m_OpenBLASModule.get_version\u001b[1;34m(self)\u001b[0m\n\u001b[0;32m    643\u001b[0m get_config \u001b[38;5;241m=\u001b[39m \u001b[38;5;28mgetattr\u001b[39m(\u001b[38;5;28mself\u001b[39m\u001b[38;5;241m.\u001b[39m_dynlib, \u001b[38;5;124m\"\u001b[39m\u001b[38;5;124mopenblas_get_config\u001b[39m\u001b[38;5;124m\"\u001b[39m,\n\u001b[0;32m    644\u001b[0m                      \u001b[38;5;28;01mlambda\u001b[39;00m: \u001b[38;5;28;01mNone\u001b[39;00m)\n\u001b[0;32m    645\u001b[0m get_config\u001b[38;5;241m.\u001b[39mrestype \u001b[38;5;241m=\u001b[39m ctypes\u001b[38;5;241m.\u001b[39mc_char_p\n\u001b[1;32m--> 646\u001b[0m config \u001b[38;5;241m=\u001b[39m get_config()\u001b[38;5;241m.\u001b[39msplit()\n\u001b[0;32m    647\u001b[0m \u001b[38;5;28;01mif\u001b[39;00m config[\u001b[38;5;241m0\u001b[39m] \u001b[38;5;241m==\u001b[39m \u001b[38;5;124mb\u001b[39m\u001b[38;5;124m\"\u001b[39m\u001b[38;5;124mOpenBLAS\u001b[39m\u001b[38;5;124m\"\u001b[39m:\n\u001b[0;32m    648\u001b[0m     \u001b[38;5;28;01mreturn\u001b[39;00m config[\u001b[38;5;241m1\u001b[39m]\u001b[38;5;241m.\u001b[39mdecode(\u001b[38;5;124m\"\u001b[39m\u001b[38;5;124mutf-8\u001b[39m\u001b[38;5;124m\"\u001b[39m)\n",
      "\u001b[1;31mAttributeError\u001b[0m: 'NoneType' object has no attribute 'split'"
     ]
    }
   ],
   "source": [
    "# t-SNE\n",
    "tsne = TSNE(n_components=2)\n",
    "X_train_tsne = tsne.fit_transform(X_train)\n",
    "print(\"t-SNE Transformed Features:\", X_train_tsne)\n",
    "\n",
    "# We use TSNE from sklearn.manifold to transform the original features into a two-dimensional space for visualization."
   ]
  },
  {
   "cell_type": "code",
   "execution_count": null,
   "id": "dbed52dd-895d-49b4-829f-18fb77d09e66",
   "metadata": {},
   "outputs": [],
   "source": []
  }
 ],
 "metadata": {
  "kernelspec": {
   "display_name": "Python 3 (ipykernel)",
   "language": "python",
   "name": "python3"
  },
  "language_info": {
   "codemirror_mode": {
    "name": "ipython",
    "version": 3
   },
   "file_extension": ".py",
   "mimetype": "text/x-python",
   "name": "python",
   "nbconvert_exporter": "python",
   "pygments_lexer": "ipython3",
   "version": "3.11.7"
  }
 },
 "nbformat": 4,
 "nbformat_minor": 5
}
